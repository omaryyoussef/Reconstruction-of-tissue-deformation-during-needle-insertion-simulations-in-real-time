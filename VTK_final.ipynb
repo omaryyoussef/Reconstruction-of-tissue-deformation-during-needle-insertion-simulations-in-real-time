{
 "cells": [
  {
   "cell_type": "code",
   "execution_count": 1,
   "metadata": {},
   "outputs": [],
   "source": [
    "import numpy as np\n",
    "import vtk\n",
    "from vtk.util import numpy_support\n",
    "import matplotlib.pyplot as plt\n",
    "from scipy.interpolate import griddata"
   ]
  },
  {
   "cell_type": "code",
   "execution_count": 2,
   "metadata": {},
   "outputs": [],
   "source": [
    "def rotations24(polycube):\n",
    "    # imagine shape is pointing in axis 0 (up)\n",
    "\n",
    "    # 4 rotations about axis 0\n",
    "    yield from rotations4(polycube, 0)\n",
    "\n",
    "    # rotate 180 about axis 1, now shape is pointing down in axis 0\n",
    "    # 4 rotations about axis 0\n",
    "    yield from rotations4(rot90(polycube, 2, axis=1), 0)\n",
    "\n",
    "    # rotate 90 or 270 about axis 1, now shape is pointing in axis 2\n",
    "    # 8 rotations about axis 2\n",
    "    yield from rotations4(rot90(polycube, axis=1), 2)\n",
    "    yield from rotations4(rot90(polycube, -1, axis=1), 2)\n",
    "\n",
    "    # rotate about axis 2, now shape is pointing in axis 1\n",
    "    # 8 rotations about axis 1\n",
    "    yield from rotations4(rot90(polycube, axis=2), 1)\n",
    "    yield from rotations4(rot90(polycube, -1, axis=2), 1)\n",
    "\n",
    "def rotations4(polycube, axis):\n",
    "    \"\"\"List the four rotations of the given cube about the given axis.\"\"\"\n",
    "    for i in range(4):\n",
    "        yield rot90(polycube, i, axis)\n",
    "        \n",
    "def rot90(m, k=1, axis=2):\n",
    "    \"\"\"Rotate an array k*90 degrees in the counter-clockwise direction around the given axis\"\"\"\n",
    "    m = np.swapaxes(m, 2, axis)\n",
    "    m = np.rot90(m, k)\n",
    "    m = np.swapaxes(m, 2, axis)\n",
    "    return m"
   ]
  },
  {
   "cell_type": "code",
   "execution_count": 3,
   "metadata": {},
   "outputs": [
    {
     "name": "stdout",
     "output_type": "stream",
     "text": [
      "done\n"
     ]
    }
   ],
   "source": [
    "# Import Vtk file\n",
    "reader = vtk.vtkUnstructuredGridReader()\n",
    "reader.SetFileName(\"results_24.vtk\")\n",
    "reader.ReadAllScalarsOn()\n",
    "reader.ReadAllVectorsOn()\n",
    "reader.Update()\n",
    "\n",
    "# Get the coordinates of the points\n",
    "nodes_vtk_array = reader.GetOutput().GetPoints().GetData() # get position of each data point\n",
    "\n",
    "# Extract force and displacement data from VTK file\n",
    "forceVTK = reader.GetOutput().GetPointData().GetArray(0)\n",
    "displacementVTK = reader.GetOutput().GetPointData().GetArray(1)\n",
    "\n",
    "# get x, y, z grid points\n",
    "nodes_numpy_array = numpy_support.vtk_to_numpy(nodes_vtk_array)\n",
    "x,y,z = nodes_numpy_array[:,0] , nodes_numpy_array[:,1] , nodes_numpy_array[:,2]\n",
    "\n",
    "# Convert from VTK to numpy\n",
    "displacement_numpy_array = numpy_support.vtk_to_numpy(displacementVTK)\n",
    "force_numpy_array = numpy_support.vtk_to_numpy(forceVTK)\n",
    "\n",
    "# Find value range in which to interpolate\n",
    "npts = 64\n",
    "xmin, xmax = min(x), max(x)\n",
    "ymin, ymax = min(y), max(y)\n",
    "zmin, zmax = min(z), max(z)\n",
    "\n",
    "# Define grid points per dimension (structured)\n",
    "xi = np.linspace(xmin, xmax, npts)\n",
    "yi = np.linspace(ymin, ymax, npts)\n",
    "zi = np.linspace(zmin, zmax, npts)\n",
    "\n",
    "# Assemble grid\n",
    "ar_len = len(xi)*len(yi)*len(zi)\n",
    "X = np.arange(ar_len, dtype = float)\n",
    "Y = np.arange(ar_len, dtype = float)\n",
    "Z = np.arange(ar_len, dtype = float)\n",
    "l = 0\n",
    "for i in range(0,len(xi)):\n",
    "    for j in range(0,len(yi)):\n",
    "        for k in range(0,len(zi)):\n",
    "            X[l] = xi[i]\n",
    "            Y[l] = yi[j]\n",
    "            Z[l] = zi[k]\n",
    "            l=l+1\n",
    "\n",
    "# interpolate in grid\n",
    "displacement_array = griddata((x, y, z), displacementVTK, (X, Y, Z))\n",
    "force_array = griddata((x, y, z), forceVTK, (X, Y, Z))\n",
    "\n",
    "# reshape\n",
    "displacement_array = displacement_array.reshape((64,64,64,3))\n",
    "force_array = force_array.reshape((64,64,64,3))\n",
    "\n",
    "print(\"done\")"
   ]
  },
  {
   "cell_type": "code",
   "execution_count": 4,
   "metadata": {},
   "outputs": [
    {
     "data": {
      "image/png": "[encoded data removed]",
      "text/plain": [
       "<Figure size 432x288 with 1 Axes>"
      ]
     },
     "metadata": {
      "needs_background": "light"
     },
     "output_type": "display_data"
    },
    {
     "data": {
      "image/png": "[encoded data removed]",
      "text/plain": [
       "<Figure size 432x288 with 1 Axes>"
      ]
     },
     "metadata": {
      "needs_background": "light"
     },
     "output_type": "display_data"
    }
   ],
   "source": [
    "# test if interpolation worked\n",
    "disp_test = displacement_array.copy()\n",
    "disp_test = disp_test.reshape((64,64,64,3))\n",
    "plt.imshow(disp_test[:,:,35,2])\n",
    "plt.show()\n",
    "\n",
    "force_test = force_array.copy()\n",
    "force_test = force_test.reshape((64,64,64,3))\n",
    "plt.imshow(force_test[:,:,35,2])\n",
    "plt.show()"
   ]
  },
  {
   "cell_type": "code",
   "execution_count": 5,
   "metadata": {},
   "outputs": [
    {
     "name": "stdout",
     "output_type": "stream",
     "text": [
      "No. of distinct rotations for Displacement vector: 24\n",
      "No. of distinct rotations for Force vector: 24\n"
     ]
    }
   ],
   "source": [
    "displacementList = rotations24(displacement_array)\n",
    "displacementList = list(displacementList)\n",
    "print('No. of distinct rotations for Displacement vector:', len(set(str(x) for x in rotations24(displacement_array))))\n",
    "displacement = np.asarray(displacementList)\n",
    "\n",
    "forceList = rotations24(force_array)\n",
    "forceList = list(forceList)\n",
    "print('No. of distinct rotations for Force vector:', len(set(str(x) for x in rotations24(force_array))))\n",
    "force = np.asarray(forceList)"
   ]
  },
  {
   "cell_type": "code",
   "execution_count": 270,
   "metadata": {},
   "outputs": [],
   "source": [
    "#np.save('forcetest12.npy', force)\n",
    "#np.save('disptest12.npy', displacement)"
   ]
  }
 ],
 "metadata": {
  "kernelspec": {
   "display_name": "Python 3",
   "language": "python",
   "name": "python3"
  },
  "language_info": {
   "codemirror_mode": {
    "name": "ipython",
    "version": 3
   },
   "file_extension": ".py",
   "mimetype": "text/x-python",
   "name": "python",
   "nbconvert_exporter": "python",
   "pygments_lexer": "ipython3",
   "version": "3.6.9"
  }
 },
 "nbformat": 4,
 "nbformat_minor": 4
}
