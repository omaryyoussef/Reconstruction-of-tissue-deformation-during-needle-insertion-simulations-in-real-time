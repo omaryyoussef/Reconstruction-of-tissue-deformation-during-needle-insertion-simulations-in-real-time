{
 "cells": [
  {
   "cell_type": "code",
   "execution_count": 1,
   "metadata": {},
   "outputs": [],
   "source": [
    "import random\n",
    "import numpy as np"
   ]
  },
  {
   "cell_type": "code",
   "execution_count": 12,
   "metadata": {},
   "outputs": [],
   "source": [
    "# initialize parameters\n",
    "def gen():\n",
    "    \n",
    "    x_bounds = (0.01, 0.04)\n",
    "    y_bounds = (0.01, 0.04)\n",
    "    z_bounds = (0.0, 0.05)\n",
    "    \n",
    "    offset   = 0.005\n",
    "    \n",
    "    domain_x = (x_bounds[1] - offset) * 0.5\n",
    "    domain_y = (y_bounds[1] - offset) * 0.5\n",
    "    domain_z = (z_bounds[1] - offset) * 0.5\n",
    "    \n",
    "    e_x      = 0\n",
    "    e_y      = offset + domain_y * random.uniform(0,1)\n",
    "    e_z      = offset + domain_z * random.uniform(0,1)\n",
    "    \n",
    "    alpha    = 0.66 + (0.09 * random.uniform(0,1)) \n",
    "    \n",
    "    t_x      = x_bounds[0] + (x_bounds[1] - x_bounds[0]) * alpha\n",
    "    t_y      = offset + 2 * domain_y * random.uniform(0,1)\n",
    "    t_z      = offset + 2 * domain_z * random.uniform(0,1)\n",
    "    \n",
    "    entry_p  = (e_x, e_y, e_z)\n",
    "    target_p = (t_x, t_y, t_z)\n",
    "\n",
    "    print('\\nentry point: ', entry_p)\n",
    "    print('target point: ', target_p)\n",
    "    return entry_p, target_p"
   ]
  },
  {
   "cell_type": "code",
   "execution_count": 13,
   "metadata": {},
   "outputs": [
    {
     "name": "stdout",
     "output_type": "stream",
     "text": [
      "\n",
      "entry point:  (0, 0.009890296374889966, 0.013073194176346097)\n",
      "target point:  (0.032127163201186124, 0.028586479336605256, 0.019546331437965615)\n",
      "\n",
      "entry point:  (0, 0.00963425635754945, 0.011804397395170736)\n",
      "target point:  (0.031454955001956254, 0.0065017487326096135, 0.031012616284192412)\n",
      "\n",
      "entry point:  (0, 0.012678097172376297, 0.009455530874191142)\n",
      "target point:  (0.030970042299916428, 0.009043820582380268, 0.04185885762745768)\n",
      "\n",
      "entry point:  (0, 0.010470470273894483, 0.022286344039664237)\n",
      "target point:  (0.032301963674666506, 0.006940519524028207, 0.007957278952623348)\n",
      "\n",
      "entry point:  (0, 0.019199787236293467, 0.021881364170936685)\n",
      "target point:  (0.030630580694216356, 0.023216833489436893, 0.024740779223947195)\n",
      "\n",
      "entry point:  (0, 0.009628549805884803, 0.009641551475009605)\n",
      "target point:  (0.029940652956473753, 0.02389230118327972, 0.008172371107979484)\n",
      "\n",
      "entry point:  (0, 0.01685058297320021, 0.026554315242603946)\n",
      "target point:  (0.030628256322066706, 0.03900534191707234, 0.04782016348653273)\n",
      "\n",
      "entry point:  (0, 0.00907320112495703, 0.008458992694441411)\n",
      "target point:  (0.02993612450392827, 0.014639731657465647, 0.02698350785078429)\n",
      "\n",
      "entry point:  (0, 0.021744612757419058, 0.015616604468240723)\n",
      "target point:  (0.03152453361144322, 0.019070280217805224, 0.02994898896916647)\n",
      "\n",
      "entry point:  (0, 0.0140204458932791, 0.0070970808463843744)\n",
      "target point:  (0.03191472020937219, 0.03667487475219463, 0.03595872941241299)\n",
      "\n",
      "entry point:  (0, 0.018151467313774396, 0.019855378148232895)\n",
      "target point:  (0.03167269522450989, 0.013164098939575274, 0.03280199913104566)\n",
      "\n",
      "entry point:  (0, 0.014075330539947278, 0.017429342237228664)\n",
      "target point:  (0.030469196310680825, 0.03270451163107484, 0.04161963268845432)\n",
      "\n",
      "entry point:  (0, 0.009272547383168248, 0.01001462986620594)\n",
      "target point:  (0.031837782175741076, 0.025047035807351712, 0.03592846997994004)\n",
      "\n",
      "entry point:  (0, 0.011725619629754831, 0.01618786370772046)\n",
      "target point:  (0.030008616079729364, 0.0195624766838113, 0.034300404764776485)\n"
     ]
    }
   ],
   "source": [
    "# Generate 42 entry/target combinations\n",
    "\n",
    "for i in range(14):\n",
    "    gen()"
   ]
  },
  {
   "cell_type": "code",
   "execution_count": null,
   "metadata": {},
   "outputs": [],
   "source": []
  },
  {
   "cell_type": "code",
   "execution_count": null,
   "metadata": {},
   "outputs": [],
   "source": []
  },
  {
   "cell_type": "code",
   "execution_count": null,
   "metadata": {},
   "outputs": [],
   "source": []
  }
 ],
 "metadata": {
  "kernelspec": {
   "display_name": "Python 3",
   "language": "python",
   "name": "python3"
  },
  "language_info": {
   "codemirror_mode": {
    "name": "ipython",
    "version": 3
   },
   "file_extension": ".py",
   "mimetype": "text/x-python",
   "name": "python",
   "nbconvert_exporter": "python",
   "pygments_lexer": "ipython3",
   "version": "3.7.6"
  }
 },
 "nbformat": 4,
 "nbformat_minor": 4
}
